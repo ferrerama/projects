{
 "cells": [
  {
   "cell_type": "code",
   "execution_count": null,
   "id": "650a6f37",
   "metadata": {},
   "outputs": [
    {
     "name": "stdout",
     "output_type": "stream",
     "text": [
      "  Vendedor;Ventas   Vendedor  Ventas   bono  comision   total\n",
      "0        Juan;100       Juan   100.0    0.0      10.0   110.0\n",
      "1      Maria;1500      Maria  1500.0   75.0     150.0  1725.0\n",
      "2  Francisco;2222  Francisco  2222.0  111.1     222.2  2555.3\n"
     ]
    }
   ],
   "source": [
    "import pandas as pd\n",
    "\n",
    "def calcular_bono(Ventas):\n",
    "    if Ventas > 500:\n",
    "        return Ventas * 0.05\n",
    "    else:\n",
    "        return 0\n",
    "\n",
    "df = pd.read_csv('prueba.csv', sep=',')\n",
    "\n",
    "df['bono'] = df['Ventas'].apply(calcular_bono)\n",
    "\n",
    "df['comision'] = df['Ventas'] * 0.10\n",
    "df['total'] = df['Ventas'] + df['comision'] + df['bono']\n",
    "\n",
    "df.to_csv('prueba3.csv', index=False)\n",
    "print(df)\n"
   ]
  }
 ],
 "metadata": {
  "kernelspec": {
   "display_name": "Python 3",
   "language": "python",
   "name": "python3"
  },
  "language_info": {
   "codemirror_mode": {
    "name": "ipython",
    "version": 3
   },
   "file_extension": ".py",
   "mimetype": "text/x-python",
   "name": "python",
   "nbconvert_exporter": "python",
   "pygments_lexer": "ipython3",
   "version": "3.13.7"
  }
 },
 "nbformat": 4,
 "nbformat_minor": 5
}
