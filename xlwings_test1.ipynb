{
 "cells": [
  {
   "cell_type": "code",
   "execution_count": 1,
   "id": "7b5edb46",
   "metadata": {},
   "outputs": [],
   "source": [
    "import xlwings as xw\n",
    "hoja = xw.Book('libro1.xlsx').sheets['Hoja1']\n",
    "hoja.range('B1').options(transpose=True).value = [valor ** 3 for valor in hoja.range('A1').expand('down').value]"
   ]
  }
 ],
 "metadata": {
  "kernelspec": {
   "display_name": "Python 3",
   "language": "python",
   "name": "python3"
  },
  "language_info": {
   "codemirror_mode": {
    "name": "ipython",
    "version": 3
   },
   "file_extension": ".py",
   "mimetype": "text/x-python",
   "name": "python",
   "nbconvert_exporter": "python",
   "pygments_lexer": "ipython3",
   "version": "3.13.7"
  }
 },
 "nbformat": 4,
 "nbformat_minor": 5
}
