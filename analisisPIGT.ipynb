{
 "cells": [
  {
   "cell_type": "code",
   "execution_count": 19,
   "id": "55a91037",
   "metadata": {},
   "outputs": [
    {
     "name": "stdout",
     "output_type": "stream",
     "text": [
      "Proceso completado. Datos exportados, formateados y alineados correctamente.\n"
     ]
    }
   ],
   "source": [
    "import pandas as pd\n",
    "import xlwings as xw\n",
    "\n",
    "file_path = \"C:/Users/mferrera/Documents/MASTER SALES DETAILS PIPSA GT.xlsm\"\n",
    "\n",
    "# Leer los datos de Excel\n",
    "df_ventas = pd.read_excel(\n",
    "    file_path,\n",
    "    sheet_name=\"Ventas_PIPGT Analisis (2)\", \n",
    "    skiprows=2\n",
    ")\n",
    "\n",
    "# Agrupar y sumar los valores\n",
    "resumen_df = df_ventas.groupby('Grupo')['TotalVenta'].sum().reset_index()\n",
    "\n",
    "# Preparar la hoja de destino en Excel\n",
    "hoja_destino = xw.Book('datos2.xlsx').sheets['Hoja1']\n",
    "hoja_destino.range('A1').expand().clear()\n",
    "\n",
    "# Pegar la tabla, los valores siguen siendo números\n",
    "hoja_destino.range('A1').value = resumen_df\n",
    "\n",
    "# Aplicar formato de número y alinear a la derecha en Excel\n",
    "# La columna de números ('TotalVenta') es la segunda, por lo tanto la B.\n",
    "# El rango va desde la fila 2 (debajo del encabezado) hasta el final.\n",
    "rango_valores = hoja_destino.range('B2').expand('down')\n",
    "\n",
    "# **Formato de número para miles (punto) y decimales (coma)**\n",
    "# '1.000,00'\n",
    "rango_valores.number_format = '#,##0.00'\n",
    "\n",
    "# **Alinear a la derecha**\n",
    "rango_valores.api.HorizontalAlignment = -4152\n",
    "\n",
    "hoja_destino.book.save()\n",
    "#hoja_destino.book.close()\n",
    "\n",
    "print(\"Proceso completado. Datos exportados, formateados y alineados correctamente.\")"
   ]
  }
 ],
 "metadata": {
  "kernelspec": {
   "display_name": "Python 3",
   "language": "python",
   "name": "python3"
  },
  "language_info": {
   "codemirror_mode": {
    "name": "ipython",
    "version": 3
   },
   "file_extension": ".py",
   "mimetype": "text/x-python",
   "name": "python",
   "nbconvert_exporter": "python",
   "pygments_lexer": "ipython3",
   "version": "3.13.7"
  }
 },
 "nbformat": 4,
 "nbformat_minor": 5
}
