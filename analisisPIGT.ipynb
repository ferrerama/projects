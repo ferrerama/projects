{
 "cells": [
  {
   "cell_type": "code",
   "execution_count": 12,
   "id": "55a91037",
   "metadata": {},
   "outputs": [],
   "source": [
    "import pandas as pd\n",
    "import xlwings as xw\n",
    "\n",
    "# Leer el archivo Excel\n",
    "df = pd.read_excel(\"C:/Users/mferrera/Documents/MASTER SALES DETAILS PIPSA GT.xlsm\",\n",
    "sheet_name=\"Ventas_PIPGT Analisis (2)\", skiprows=2)\n",
    "\n",
    "# Agrupar por 'Grupo' y sumar 'TotalVenta'\n",
    "resumen = df.groupby('Grupo')['TotalVenta'].sum().reset_index()\n",
    "\n",
    "xw.Book('datos.xlsx').sheets['Hoja1'].clear_contents()\n",
    "xw.Book('datos.xlsx').sheets['Hoja1'].range('A1').value = resumen\n",
    "xw.Book('datos.xlsx').save()"
   ]
  }
 ],
 "metadata": {
  "kernelspec": {
   "display_name": "Python 3",
   "language": "python",
   "name": "python3"
  },
  "language_info": {
   "codemirror_mode": {
    "name": "ipython",
    "version": 3
   },
   "file_extension": ".py",
   "mimetype": "text/x-python",
   "name": "python",
   "nbconvert_exporter": "python",
   "pygments_lexer": "ipython3",
   "version": "3.13.7"
  }
 },
 "nbformat": 4,
 "nbformat_minor": 5
}
