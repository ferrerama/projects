{
 "cells": [
  {
   "cell_type": "code",
   "execution_count": 2,
   "id": "1cd72e3c",
   "metadata": {},
   "outputs": [],
   "source": [
    "import win32com.client as win32\n",
    "excel = win32.GetActiveObject('Excel.Application')\n",
    "book = excel.Workbooks('datos.xlsx')\n",
    "sheet = book.Worksheets('Hoja1')"
   ]
  },
  {
   "cell_type": "code",
   "execution_count": 3,
   "id": "9f8a2d32",
   "metadata": {},
   "outputs": [],
   "source": [
    "for i in range(0, 12):\n",
    "    sheet.Cells(i + 1, 1).Value = i"
   ]
  },
  {
   "cell_type": "code",
   "execution_count": 5,
   "id": "524c39e2",
   "metadata": {},
   "outputs": [],
   "source": [
    "book.Save()\n",
    "#book.Close()\n",
    "#excel.Quit()\n"
   ]
  },
  {
   "cell_type": "code",
   "execution_count": 6,
   "id": "0405caab",
   "metadata": {},
   "outputs": [],
   "source": [
    "excel.Quit()\n"
   ]
  }
 ],
 "metadata": {
  "kernelspec": {
   "display_name": "Python 3",
   "language": "python",
   "name": "python3"
  },
  "language_info": {
   "codemirror_mode": {
    "name": "ipython",
    "version": 3
   },
   "file_extension": ".py",
   "mimetype": "text/x-python",
   "name": "python",
   "nbconvert_exporter": "python",
   "pygments_lexer": "ipython3",
   "version": "3.13.7"
  }
 },
 "nbformat": 4,
 "nbformat_minor": 5
}
