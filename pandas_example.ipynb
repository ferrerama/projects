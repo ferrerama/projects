{
 "cells": [
  {
   "cell_type": "code",
   "execution_count": 3,
   "id": "09495dc5",
   "metadata": {},
   "outputs": [],
   "source": [
    "import pandas as pd\n",
    "import xlwings as xw\n",
    "resumen_df = pd.read_csv(\"2m Sales Records.csv\").groupby('Country')['Total Revenue'].sum().reset_index()\n",
    "\n",
    "xw.Book('libro_analisis1.xlsx').sheets['Hoja1'].range('A1').value = resumen_df\n",
    "xw.Book('libro_analisis1.xlsx').save()"
   ]
  }
 ],
 "metadata": {
  "kernelspec": {
   "display_name": "Python 3",
   "language": "python",
   "name": "python3"
  },
  "language_info": {
   "codemirror_mode": {
    "name": "ipython",
    "version": 3
   },
   "file_extension": ".py",
   "mimetype": "text/x-python",
   "name": "python",
   "nbconvert_exporter": "python",
   "pygments_lexer": "ipython3",
   "version": "3.13.7"
  }
 },
 "nbformat": 4,
 "nbformat_minor": 5
}
