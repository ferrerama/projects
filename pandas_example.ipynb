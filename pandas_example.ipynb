{
 "cells": [
  {
   "cell_type": "code",
   "execution_count": 3,
   "id": "09495dc5",
   "metadata": {},
   "outputs": [
    {
     "name": "stdout",
     "output_type": "stream",
     "text": [
      "Country\n",
      "Afghanistan     1.436835e+10\n",
      "Albania         1.441340e+10\n",
      "Algeria         1.447783e+10\n",
      "Andorra         1.438782e+10\n",
      "Angola          1.420664e+10\n",
      "                    ...     \n",
      "Vatican City    1.424189e+10\n",
      "Vietnam         1.416313e+10\n",
      "Yemen           1.459342e+10\n",
      "Zambia          1.446784e+10\n",
      "Zimbabwe        1.429193e+10\n",
      "Name: Total Revenue, Length: 185, dtype: float64\n"
     ]
    }
   ],
   "source": [
    "import pandas as pd\n",
    "\n",
    "df = pd.read_csv(\"2m Sales Records.csv\")\n",
    "\n",
    "ventasxpais = df.groupby('Country')['Total Revenue'].sum()\n",
    "print (ventasxpais)"
   ]
  }
 ],
 "metadata": {
  "kernelspec": {
   "display_name": "Python 3",
   "language": "python",
   "name": "python3"
  },
  "language_info": {
   "codemirror_mode": {
    "name": "ipython",
    "version": 3
   },
   "file_extension": ".py",
   "mimetype": "text/x-python",
   "name": "python",
   "nbconvert_exporter": "python",
   "pygments_lexer": "ipython3",
   "version": "3.13.7"
  }
 },
 "nbformat": 4,
 "nbformat_minor": 5
}
