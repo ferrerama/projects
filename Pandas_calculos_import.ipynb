{
 "cells": [
  {
   "cell_type": "code",
   "execution_count": 2,
   "id": "ea44ae92-0257-4986-9f1c-95bd797ad3bc",
   "metadata": {},
   "outputs": [],
   "source": [
    "import pandas as pd"
   ]
  },
  {
   "cell_type": "code",
   "execution_count": 5,
   "id": "b647e5e1-4afc-4ecb-bbba-94d44edf8ae3",
   "metadata": {},
   "outputs": [
    {
     "name": "stdout",
     "output_type": "stream",
     "text": [
      "El archivo 'datos nuevos.csv' se ha guardado exitosamente.\n"
     ]
    }
   ],
   "source": [
    "suma = pd.read_csv('2m Sales Records.csv')['Total Profit'].sum()\n",
    "pd.Series([suma], name='Total Profit').to_csv('datos nuevos.csv', index=False)\n",
    "print(\"El archivo 'datos nuevos.csv' se ha guardado exitosamente.\")"
   ]
  },
  {
   "cell_type": "code",
   "execution_count": null,
   "id": "8fd96bd8-754f-4544-9b72-cb3ddff14661",
   "metadata": {},
   "outputs": [],
   "source": []
  }
 ],
 "metadata": {
  "kernelspec": {
   "display_name": "Python 3 (ipykernel)",
   "language": "python",
   "name": "python3"
  },
  "language_info": {
   "codemirror_mode": {
    "name": "ipython",
    "version": 3
   },
   "file_extension": ".py",
   "mimetype": "text/x-python",
   "name": "python",
   "nbconvert_exporter": "python",
   "pygments_lexer": "ipython3",
   "version": "3.13.7"
  }
 },
 "nbformat": 4,
 "nbformat_minor": 5
}
