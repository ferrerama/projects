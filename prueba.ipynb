{
 "cells": [
  {
   "cell_type": "code",
   "execution_count": 1,
   "id": "650a6f37",
   "metadata": {},
   "outputs": [
    {
     "name": "stdout",
     "output_type": "stream",
     "text": [
      "    Vendedor  Ventas  comision   total   bono  bono2\n",
      "0       Juan     100      10.0   110.0    0.0    0.0\n",
      "1      Maria    1500     150.0  1725.0   75.0   75.0\n",
      "2  Francisco    2222     222.2  2555.3  111.1  111.1\n"
     ]
    }
   ],
   "source": [
    "import pandas as pd\n",
    "import numpy as np\n",
    "df = pd.read_csv('prueba.csv', sep=',')\n",
    "df['comision'] = df['Ventas'] * 0.10\n",
    "#df['bono'] = df['Ventas'].apply(lambda x: x * 0.05 if x > 500 else 0)\n",
    "df['bono2'] = np.where(df['Ventas'] > 500, df['Ventas'] * 0.05, 0)\n",
    "df['total'] = df['Ventas'] + df['comision'] + df['bono2']\n",
    "df.to_csv('prueba.csv', index=False)\n",
    "print(df)\n"
   ]
  }
 ],
 "metadata": {
  "kernelspec": {
   "display_name": "Python 3",
   "language": "python",
   "name": "python3"
  },
  "language_info": {
   "codemirror_mode": {
    "name": "ipython",
    "version": 3
   },
   "file_extension": ".py",
   "mimetype": "text/x-python",
   "name": "python",
   "nbconvert_exporter": "python",
   "pygments_lexer": "ipython3",
   "version": "3.13.7"
  }
 },
 "nbformat": 4,
 "nbformat_minor": 5
}
