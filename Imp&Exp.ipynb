{
 "cells": [
  {
   "cell_type": "code",
   "execution_count": 4,
   "id": "09495dc5",
   "metadata": {},
   "outputs": [],
   "source": [
    "import pandas as pd\n",
    "import xlwings as xw\n",
    "resumen_df = pd.read_csv(\"2m Sales Records.csv\").groupby(['Region', 'Country'])['Total Revenue'].sum().reset_index()\n",
    "resumen_df['Total Revenue'] = resumen_df['Total Revenue'] / 1_000_000\n",
    "\n",
    "xw.Book('datos.xlsx').sheets['Hoja1'].range('A1').value = resumen_df\n",
    "xw.Book('datos.xlsx').save()"
   ]
  }
 ],
 "metadata": {
  "kernelspec": {
   "display_name": "Python 3",
   "language": "python",
   "name": "python3"
  },
  "language_info": {
   "codemirror_mode": {
    "name": "ipython",
    "version": 3
   },
   "file_extension": ".py",
   "mimetype": "text/x-python",
   "name": "python",
   "nbconvert_exporter": "python",
   "pygments_lexer": "ipython3",
   "version": "3.13.7"
  }
 },
 "nbformat": 4,
 "nbformat_minor": 5
}
